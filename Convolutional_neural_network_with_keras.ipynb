{
  "cells": [
    {
      "cell_type": "markdown",
      "metadata": {
        "id": "view-in-github",
        "colab_type": "text"
      },
      "source": [
        "<a href=\"https://colab.research.google.com/github/Meenatchisundari/Deep-learning/blob/main/Convolutional_neural_network_with_keras.ipynb\" target=\"_parent\"><img src=\"https://colab.research.google.com/assets/colab-badge.svg\" alt=\"Open In Colab\"/></a>"
      ]
    },
    {
      "cell_type": "markdown",
      "source": [
        "# Convolutional Neural Networl"
      ],
      "metadata": {
        "id": "NQQaRAJBpSUV"
      }
    },
    {
      "cell_type": "code",
      "metadata": {
        "id": "caf13643-fbbb-4805-bca7-e7058b620f23"
      },
      "outputs": [],
      "source": [
        "import keras\n",
        "from keras.models import Sequential\n",
        "from keras.layers import Dense, Conv2D, MaxPooling2D, Flatten\n",
        "from keras.utils import to_categorical"
      ],
      "execution_count": 23
    },
    {
      "cell_type": "markdown",
      "metadata": {
        "id": "8c2c6d4d-4199-4ac3-86fd-83d0af27b76b"
      },
      "source": [
        "## Convolutional Layer with One set of convolutional and pooling layers\n"
      ]
    },
    {
      "cell_type": "code",
      "metadata": {
        "id": "0b926053-ed83-4419-9df6-bbafcfc7f2e2"
      },
      "outputs": [],
      "source": [
        "# import data\n",
        "from keras.datasets import mnist\n",
        "\n",
        "# load data\n",
        "(X_train, y_train), (X_test, y_test) = mnist.load_data()\n",
        "\n",
        "# reshape to be [samples][pixels][width][height]\n",
        "X_train = X_train.reshape(X_train.shape[0], 28, 28, 1).astype('float32')\n",
        "X_test = X_test.reshape(X_test.shape[0], 28, 28, 1).astype('float32')"
      ],
      "execution_count": 24
    },
    {
      "cell_type": "markdown",
      "metadata": {
        "id": "75bfc804-4b7e-4ce6-b5e8-3ddab966108d"
      },
      "source": [
        "Let's normalize the pixel values to be between 0 and 1\n"
      ]
    },
    {
      "cell_type": "code",
      "metadata": {
        "id": "8cd56d94-762f-4a2b-8116-6f04313c5228"
      },
      "outputs": [],
      "source": [
        "X_train = X_train / 255 # normalize training data\n",
        "X_test = X_test / 255 # normalize test data"
      ],
      "execution_count": 25
    },
    {
      "cell_type": "markdown",
      "metadata": {
        "id": "6e10086d-2c0e-481e-b136-47ce17d7bd47"
      },
      "source": [
        "Next, let's convert the target variable into binary categories\n"
      ]
    },
    {
      "cell_type": "code",
      "metadata": {
        "id": "3a368493-3d57-47f8-a735-7807ba675e3d"
      },
      "outputs": [],
      "source": [
        "y_train = to_categorical(y_train)\n",
        "y_test = to_categorical(y_test)\n",
        "\n",
        "num_classes = y_test.shape[1] # number of categories"
      ],
      "execution_count": 26
    },
    {
      "cell_type": "markdown",
      "metadata": {
        "id": "31a494f7-8bb2-4971-a5b7-a8d17b391958"
      },
      "source": [
        "Next, let's define a function that creates our model. Let's start with one set of convolutional and pooling layers.\n"
      ]
    },
    {
      "cell_type": "code",
      "metadata": {
        "id": "762b15ce-04b4-4b52-91f4-5531b095adc2"
      },
      "outputs": [],
      "source": [
        "def convolutional_model():\n",
        "\n",
        "    # create model\n",
        "    model = Sequential()\n",
        "    model.add(Conv2D(16, (5, 5), strides=(1, 1), activation='relu', input_shape=(28, 28, 1)))\n",
        "    model.add(MaxPooling2D(pool_size=(2, 2), strides=(2, 2)))\n",
        "\n",
        "    model.add(Flatten())\n",
        "    model.add(Dense(100, activation='relu'))\n",
        "    model.add(Dense(num_classes, activation='softmax'))\n",
        "\n",
        "    # compile model\n",
        "    model.compile(optimizer='adam', loss='categorical_crossentropy',  metrics=['accuracy'])\n",
        "    return model"
      ],
      "execution_count": 27
    },
    {
      "cell_type": "markdown",
      "metadata": {
        "id": "adcd9352-8259-49e2-ac90-810ed08838f4"
      },
      "source": [
        "Finally, let's call the function to create the model, and then let's train it and evaluate it.\n"
      ]
    },
    {
      "cell_type": "code",
      "metadata": {
        "id": "7bc53a31-62d6-4bbc-b622-2c22b7e45c9f",
        "colab": {
          "base_uri": "https://localhost:8080/"
        },
        "outputId": "ee9e58bb-d70c-43d6-e27a-ce2dc21bb9e4"
      },
      "outputs": [
        {
          "output_type": "stream",
          "name": "stdout",
          "text": [
            "Epoch 1/10\n",
            "300/300 - 20s - loss: 0.3073 - accuracy: 0.9135 - val_loss: 0.1134 - val_accuracy: 0.9658 - 20s/epoch - 66ms/step\n",
            "Epoch 2/10\n",
            "300/300 - 19s - loss: 0.0959 - accuracy: 0.9719 - val_loss: 0.0665 - val_accuracy: 0.9788 - 19s/epoch - 62ms/step\n",
            "Epoch 3/10\n",
            "300/300 - 18s - loss: 0.0623 - accuracy: 0.9816 - val_loss: 0.0522 - val_accuracy: 0.9835 - 18s/epoch - 59ms/step\n",
            "Epoch 4/10\n",
            "300/300 - 20s - loss: 0.0488 - accuracy: 0.9854 - val_loss: 0.0413 - val_accuracy: 0.9863 - 20s/epoch - 65ms/step\n",
            "Epoch 5/10\n",
            "300/300 - 18s - loss: 0.0394 - accuracy: 0.9879 - val_loss: 0.0441 - val_accuracy: 0.9846 - 18s/epoch - 59ms/step\n",
            "Epoch 6/10\n",
            "300/300 - 22s - loss: 0.0326 - accuracy: 0.9901 - val_loss: 0.0374 - val_accuracy: 0.9869 - 22s/epoch - 74ms/step\n",
            "Epoch 7/10\n",
            "300/300 - 18s - loss: 0.0263 - accuracy: 0.9920 - val_loss: 0.0397 - val_accuracy: 0.9872 - 18s/epoch - 59ms/step\n",
            "Epoch 8/10\n",
            "300/300 - 18s - loss: 0.0231 - accuracy: 0.9928 - val_loss: 0.0353 - val_accuracy: 0.9881 - 18s/epoch - 59ms/step\n",
            "Epoch 9/10\n",
            "300/300 - 19s - loss: 0.0189 - accuracy: 0.9944 - val_loss: 0.0379 - val_accuracy: 0.9868 - 19s/epoch - 65ms/step\n",
            "Epoch 10/10\n",
            "300/300 - 18s - loss: 0.0153 - accuracy: 0.9956 - val_loss: 0.0335 - val_accuracy: 0.9887 - 18s/epoch - 60ms/step\n",
            "Accuracy: 0.9886999726295471 \n",
            " Error: 1.130002737045288\n"
          ]
        }
      ],
      "source": [
        "# build the model\n",
        "model = convolutional_model()\n",
        "\n",
        "# fit the model\n",
        "model.fit(X_train, y_train, validation_data=(X_test, y_test), epochs=10, batch_size=200, verbose=2)\n",
        "\n",
        "# evaluate the model\n",
        "scores = model.evaluate(X_test, y_test, verbose=0)\n",
        "print(\"Accuracy: {} \\n Error: {}\".format(scores[1], 100-scores[1]*100))"
      ],
      "execution_count": 28
    },
    {
      "cell_type": "markdown",
      "metadata": {
        "id": "7fda50d4-2b28-4a03-95d3-a78f6e289992"
      },
      "source": [
        "------------------------------------------\n"
      ]
    },
    {
      "cell_type": "markdown",
      "metadata": {
        "id": "0b4bcd75-801e-4ccb-b268-a35d3249d39c"
      },
      "source": [
        "<a id='item43'></a>\n"
      ]
    },
    {
      "cell_type": "markdown",
      "metadata": {
        "id": "dacc665a-cf08-4b37-93e9-51b24a3c5f65"
      },
      "source": [
        "## Convolutional Layer with two sets of convolutional and pooling layers\n"
      ]
    },
    {
      "cell_type": "markdown",
      "metadata": {
        "id": "89123c1f-18ba-402b-8d14-83ed04bac39a"
      },
      "source": [
        "Let's redefine our convolutional model so that it has two convolutional and pooling layers instead of just one layer of each.\n"
      ]
    },
    {
      "cell_type": "code",
      "metadata": {
        "id": "e4b3fb97-94a5-421b-80c1-8c4fe4134eb2"
      },
      "outputs": [],
      "source": [
        "def convolutional_model():\n",
        "\n",
        "    # create model\n",
        "    model = Sequential()\n",
        "    model.add(Conv2D(16, (5, 5), activation='relu', input_shape=(28, 28, 1)))\n",
        "    model.add(MaxPooling2D(pool_size=(2, 2), strides=(2, 2)))\n",
        "\n",
        "    model.add(Conv2D(8, (2, 2), activation='relu'))\n",
        "    model.add(MaxPooling2D(pool_size=(2, 2), strides=(2, 2)))\n",
        "\n",
        "    model.add(Flatten())\n",
        "    model.add(Dense(100, activation='relu'))\n",
        "    model.add(Dense(num_classes, activation='softmax'))\n",
        "\n",
        "    # Compile model\n",
        "    model.compile(optimizer='adam', loss='categorical_crossentropy',  metrics=['accuracy'])\n",
        "    return model"
      ],
      "execution_count": 29
    },
    {
      "cell_type": "markdown",
      "metadata": {
        "id": "90e1050d-e6b1-4a7e-a028-273b119dcc68"
      },
      "source": [
        "Now, let's call the function to create our new convolutional neural network, and then let's train it and evaluate it.\n"
      ]
    },
    {
      "cell_type": "code",
      "metadata": {
        "id": "1c9020f2-a385-4ba5-9923-7fa42be5dd32",
        "colab": {
          "base_uri": "https://localhost:8080/"
        },
        "outputId": "04bb9dd2-28ec-4ca5-e559-9021456995eb"
      },
      "outputs": [
        {
          "output_type": "stream",
          "name": "stdout",
          "text": [
            "Epoch 1/10\n",
            "300/300 - 22s - loss: 0.4775 - accuracy: 0.8650 - val_loss: 0.1260 - val_accuracy: 0.9620 - 22s/epoch - 73ms/step\n",
            "Epoch 2/10\n",
            "300/300 - 20s - loss: 0.1104 - accuracy: 0.9677 - val_loss: 0.0788 - val_accuracy: 0.9748 - 20s/epoch - 68ms/step\n",
            "Epoch 3/10\n",
            "300/300 - 21s - loss: 0.0828 - accuracy: 0.9753 - val_loss: 0.0681 - val_accuracy: 0.9764 - 21s/epoch - 71ms/step\n",
            "Epoch 4/10\n",
            "300/300 - 19s - loss: 0.0662 - accuracy: 0.9807 - val_loss: 0.0539 - val_accuracy: 0.9827 - 19s/epoch - 62ms/step\n",
            "Epoch 5/10\n",
            "300/300 - 21s - loss: 0.0560 - accuracy: 0.9836 - val_loss: 0.0467 - val_accuracy: 0.9842 - 21s/epoch - 70ms/step\n",
            "Epoch 6/10\n",
            "300/300 - 19s - loss: 0.0480 - accuracy: 0.9859 - val_loss: 0.0446 - val_accuracy: 0.9860 - 19s/epoch - 63ms/step\n",
            "Epoch 7/10\n",
            "300/300 - 21s - loss: 0.0426 - accuracy: 0.9873 - val_loss: 0.0412 - val_accuracy: 0.9866 - 21s/epoch - 70ms/step\n",
            "Epoch 8/10\n",
            "300/300 - 20s - loss: 0.0385 - accuracy: 0.9884 - val_loss: 0.0392 - val_accuracy: 0.9876 - 20s/epoch - 68ms/step\n",
            "Epoch 9/10\n",
            "300/300 - 22s - loss: 0.0353 - accuracy: 0.9893 - val_loss: 0.0427 - val_accuracy: 0.9864 - 22s/epoch - 74ms/step\n",
            "Epoch 10/10\n",
            "300/300 - 19s - loss: 0.0316 - accuracy: 0.9904 - val_loss: 0.0401 - val_accuracy: 0.9876 - 19s/epoch - 64ms/step\n",
            "Accuracy: 0.9876000285148621 \n",
            " Error: 1.239997148513794\n"
          ]
        }
      ],
      "source": [
        "# build the model\n",
        "model = convolutional_model()\n",
        "\n",
        "# fit the model\n",
        "model.fit(X_train, y_train, validation_data=(X_test, y_test), epochs=10, batch_size=200, verbose=2)\n",
        "\n",
        "# evaluate the model\n",
        "scores = model.evaluate(X_test, y_test, verbose=0)\n",
        "print(\"Accuracy: {} \\n Error: {}\".format(scores[1], 100-scores[1]*100))"
      ],
      "execution_count": 31
    }
  ],
  "metadata": {
    "kernelspec": {
      "display_name": "Python",
      "language": "python",
      "name": "conda-env-python-py"
    },
    "language_info": {
      "name": ""
    },
    "colab": {
      "provenance": [],
      "include_colab_link": true
    }
  },
  "nbformat": 4,
  "nbformat_minor": 0
}